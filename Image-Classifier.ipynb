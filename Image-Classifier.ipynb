{
 "cells": [
  {
   "attachments": {},
   "cell_type": "markdown",
   "metadata": {},
   "source": [
    "# Pokemon Image Classification"
   ]
  },
  {
   "attachments": {},
   "cell_type": "markdown",
   "metadata": {},
   "source": [
    "In this notebook, I do some deep learning with this [Kaggle dataset of Pokemon images](https://www.kaggle.com/datasets/lantian773030/pokemonclassification?datasetId=410745&sortBy=voteCount). This data includes hand-cropped and labeled Pokemon images that vary from images from the TV show, to Pokemon card art, and anything in between. I will try to use this data to build an image classifier that can accurately predict what Pokemon is represented given an image. "
   ]
  },
  {
   "attachments": {},
   "cell_type": "markdown",
   "metadata": {},
   "source": [
    "Notes:\n",
    "\n",
    "Steps for approaching image classification questions:\n",
    "- understand the problem \n",
    "- collect and preprocess data (resizing, normalizing, augmentation, train-test-split; done with ImageDataGenerator class from tensorflow or dataloaders in PyTorch)\n",
    "- determine CNN architecture (define model architecture class with layers, forward pass) \n",
    "- compile models (define loss function and optimizer, evaluation metrics)\n",
    "- train models (training loop)\n",
    "- evaluate models (learning curves, visualizations, etc.)"
   ]
  }
 ],
 "metadata": {
  "language_info": {
   "name": "python"
  },
  "orig_nbformat": 4
 },
 "nbformat": 4,
 "nbformat_minor": 2
}
